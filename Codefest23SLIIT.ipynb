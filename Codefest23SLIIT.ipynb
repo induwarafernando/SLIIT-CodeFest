{
 "cells": [
  {
   "cell_type": "code",
   "execution_count": 12,
   "metadata": {},
   "outputs": [
    {
     "name": "stdout",
     "output_type": "stream",
     "text": [
      "Missing Values:\n",
      " Department ID                                   0\n",
      "Category ID                                     0\n",
      "Store ID                                        0\n",
      "Sale Quantity                                   0\n",
      "Gross Value for single Product (Single Sale)    0\n",
      "Retail Value (Single Sale)                      0\n",
      "Tax with Revenue                                0\n",
      "Cost                                            0\n",
      "Tax per unit                                    0\n",
      "TotalQTY                                        0\n",
      "TotalSales                                      0\n",
      "SalesDate                                       0\n",
      "Sales Time                                      0\n",
      "Buying price per product                        0\n",
      "dtype: int64\n"
     ]
    },
    {
     "ename": "NameError",
     "evalue": "name 'department_data' is not defined",
     "output_type": "error",
     "traceback": [
      "\u001b[1;31m---------------------------------------------------------------------------\u001b[0m",
      "\u001b[1;31mNameError\u001b[0m                                 Traceback (most recent call last)",
      "Cell \u001b[1;32mIn[12], line 18\u001b[0m\n\u001b[0;32m     12\u001b[0m \u001b[38;5;28mprint\u001b[39m(\u001b[38;5;124m\"\u001b[39m\u001b[38;5;124mMissing Values:\u001b[39m\u001b[38;5;130;01m\\n\u001b[39;00m\u001b[38;5;124m\"\u001b[39m, missing_values)\n\u001b[0;32m     14\u001b[0m \u001b[38;5;66;03m# Handle missing values (replace with mean for numeric columns, mode for categorical columns)\u001b[39;00m\n\u001b[0;32m     15\u001b[0m \u001b[38;5;66;03m# Repeat for other relevant columns...\u001b[39;00m\n\u001b[0;32m     16\u001b[0m \n\u001b[0;32m     17\u001b[0m \u001b[38;5;66;03m# Check for missing values\u001b[39;00m\n\u001b[1;32m---> 18\u001b[0m missing_values_department \u001b[38;5;241m=\u001b[39m \u001b[43mdepartment_data\u001b[49m\u001b[38;5;241m.\u001b[39misnull()\u001b[38;5;241m.\u001b[39msum()\n\u001b[0;32m     19\u001b[0m \u001b[38;5;28mprint\u001b[39m(\u001b[38;5;124m\"\u001b[39m\u001b[38;5;124mMissing Values in Department Data:\u001b[39m\u001b[38;5;130;01m\\n\u001b[39;00m\u001b[38;5;124m\"\u001b[39m, missing_values_department)\n\u001b[0;32m     21\u001b[0m \u001b[38;5;66;03m# Check for infinity (considering 'Department ID' is a numeric column)\u001b[39;00m\n",
      "\u001b[1;31mNameError\u001b[0m: name 'department_data' is not defined"
     ]
    }
   ],
   "source": [
    "# Import necessary libraries\n",
    "from matplotlib import pyplot as plt\n",
    "import pandas as pd\n",
    "import numpy as np\n",
    "from sklearn.preprocessing import StandardScaler, LabelEncoder\n",
    "\n",
    "# Load dataset\n",
    "sales_data = pd.read_csv('General_Sales_Data.csv')  # Replace with your actual dataset\n",
    "\n",
    "\n",
    "# Check for missing values\n",
    "missing_values = sales_data.isnull().sum()\n",
    "print(\"Missing Values:\\n\", missing_values)\n",
    "\n",
    "# Handle missing values (replace with mean for numeric columns, mode for categorical columns)\n",
    "# Repeat for other relevant columns...\n",
    "\n",
    "\n",
    "\n",
    "# Identify and handle outliers\n",
    "# Assume 'Sale Quantity' and 'Gross Value for single Product (Single Sale)' are relevant columns for outlier detection\n",
    "\n",
    "# Ensure consistency in date formats\n",
    "sales_data['SalesDate'] = pd.to_datetime(sales_data['SalesDate'])\n",
    "\n",
    "# Feature Engineering\n",
    "# Create new features: day of the week, month, year\n",
    "\n",
    "# Time-based Analysis\n",
    "sales_data['YearMonth'] = sales_data['SalesDate'].dt.to_period('M')\n",
    "monthly_sales = sales_data.groupby('YearMonth')['TotalSales'].sum()\n",
    "\n",
    "plt.figure(figsize=(14, 6))\n",
    "monthly_sales.plot(kind='line', marker='o')\n",
    "plt.title('Monthly Total Sales Over Time')\n",
    "plt.xlabel('Year-Month')\n",
    "plt.ylabel('Total Sales')\n",
    "plt.show()\n",
    "\n",
    "# Merge datasets\n",
    "# (Assuming you have datasets like category_data, department_data, and store_data)\n",
    "\n",
    "# Data Transformation\n",
    "# Apply normalization to relevant numerical features\n",
    "# Encode categorical variables using Label Encoding"
   ]
  },
  {
   "cell_type": "code",
   "execution_count": 8,
   "metadata": {},
   "outputs": [
    {
     "name": "stdout",
     "output_type": "stream",
     "text": [
      "Descriptive Statistics:\n",
      "        Department ID    Category ID       Store ID  Sale Quantity  \\\n",
      "count  372539.000000  372539.000000  372539.000000  372539.000000   \n",
      "mean      847.899925     192.334424     243.795117      31.291658   \n",
      "min         9.000000       7.000000       8.000000    -248.000000   \n",
      "25%       870.000000     116.000000     241.000000       2.000000   \n",
      "50%       887.000000     177.000000     256.000000       7.000000   \n",
      "75%       910.000000     277.000000     272.000000      23.000000   \n",
      "max       939.000000    1225.000000     292.000000    4106.000000   \n",
      "std       195.542087     104.581326      59.998385      87.845791   \n",
      "\n",
      "       Gross Value for single Product (Single Sale)  \\\n",
      "count                                 372539.000000   \n",
      "mean                                      14.644503   \n",
      "min                                        0.000000   \n",
      "25%                                        7.860000   \n",
      "50%                                       11.530000   \n",
      "75%                                       16.730000   \n",
      "max                                      585.110000   \n",
      "std                                       14.911198   \n",
      "\n",
      "       Retail Value (Single Sale)  Tax with Revenue      Cost   Tax per unit  \\\n",
      "count               372539.000000          372539.0  372539.0  372539.000000   \n",
      "mean                    16.951390               0.0       0.0       2.307140   \n",
      "min                     -0.000100               0.0       0.0      -5.210000   \n",
      "25%                      9.150000               0.0       0.0       1.220000   \n",
      "50%                     13.371333               0.0       0.0       1.870000   \n",
      "75%                     19.405000               0.0       0.0       2.750000   \n",
      "max                    684.557000               0.0       0.0      99.450000   \n",
      "std                     16.968843               0.0       0.0       2.350968   \n",
      "\n",
      "           TotalQTY      TotalSales                      SalesDate  \\\n",
      "count  372539.000000  372539.000000                         372539   \n",
      "mean       31.277241     289.375671  2023-03-17 05:46:46.488609280   \n",
      "min      -248.000000   -5940.230000            2023-02-13 23:59:00   \n",
      "25%         2.000000      31.210000            2023-02-27 23:59:00   \n",
      "50%         7.000000      87.090000            2023-03-16 23:59:00   \n",
      "75%        23.000000     253.843000            2023-04-01 23:59:00   \n",
      "max      4106.000000   33435.989000            2023-04-19 23:59:00   \n",
      "std        87.850843     727.944891                            NaN   \n",
      "\n",
      "       Buying price per product  \n",
      "count             372539.000000  \n",
      "mean                  11.081090  \n",
      "min                    0.000000  \n",
      "25%                    5.995000  \n",
      "50%                    8.670000  \n",
      "75%                   12.510000  \n",
      "max                  403.750000  \n",
      "std                   11.161569  \n"
     ]
    }
   ],
   "source": [
    "# Import necessary libraries\n",
    "import matplotlib.pyplot as plt\n",
    "import seaborn as sns\n",
    "\n",
    "# Descriptive Statistics\n",
    "descriptive_stats = sales_data.describe()\n",
    "print(\"Descriptive Statistics:\\n\", descriptive_stats)\n",
    "\n",
    "# Visualization\n",
    "# Distribution of Sale Quantity\n",
    "# Correlation Heatmap\n",
    "# Sales by Category Name"
   ]
  },
  {
   "cell_type": "code",
   "execution_count": 9,
   "metadata": {},
   "outputs": [],
   "source": [
    "# Import necessary libraries\n",
    "from sklearn.model_selection import train_test_split\n",
    "from sklearn.ensemble import RandomForestRegressor\n",
    "from sklearn.metrics import mean_squared_error\n",
    "\n",
    "# Split the dataset into features (X) and target variable (y)\n",
    "\n",
    "# Split the dataset into training and testing sets\n",
    "\n",
    "# Train a simple model (Random Forest Regressor for example)\n",
    "\n",
    "# Predictions\n",
    "\n",
    "# Assess the accuracy of the model"
   ]
  },
  {
   "cell_type": "code",
   "execution_count": 10,
   "metadata": {},
   "outputs": [],
   "source": [
    "# Import necessary libraries\n",
    "from sklearn.model_selection import cross_val_score\n",
    "from sklearn.model_selection import KFold\n",
    "\n",
    "# Cross-validation\n",
    "\n",
    "# Sensitivity analysis and documenting model assumptions"
   ]
  }
 ],
 "metadata": {
  "kernelspec": {
   "display_name": "Python 3",
   "language": "python",
   "name": "python3"
  },
  "language_info": {
   "codemirror_mode": {
    "name": "ipython",
    "version": 3
   },
   "file_extension": ".py",
   "mimetype": "text/x-python",
   "name": "python",
   "nbconvert_exporter": "python",
   "pygments_lexer": "ipython3",
   "version": "3.11.7"
  }
 },
 "nbformat": 4,
 "nbformat_minor": 2
}
