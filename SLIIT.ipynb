{
 "cells": [
  {
   "cell_type": "code",
   "execution_count": null,
   "metadata": {},
   "outputs": [],
   "source": [
    "# Step 1: Import necessary libraries\n",
    "import pandas as pd\n",
    "import numpy as np\n",
    "import matplotlib.pyplot as plt\n",
    "import seaborn as sns\n",
    "from sklearn.model_selection import train_test_split\n",
    "from sklearn.linear_model import LinearRegression\n",
    "from sklearn import metrics\n",
    "\n",
    "# Step 2: Load and inspect the data\n",
    "category_data = pd.read_csv('Category_Data.csv')\n",
    "department_data = pd.read_csv('Department_Data.csv')\n",
    "store_data = pd.read_csv('Store_Data.csv')\n",
    "general_sales_data = pd.read_csv('General_Sales_Data.csv')\n",
    "\n",
    "print(category_data.head())\n",
    "print(department_data.head())\n",
    "print(store_data.head())\n",
    "print(general_sales_data.head())\n",
    "\n",
    "# Step 3: Merge the datasets\n",
    "merged_data = pd.merge(pd.merge(pd.merge(category_data, department_data), store_data), general_sales_data)\n",
    "\n",
    "# Step 4: Exploratory Data Analysis and Visualization\n",
    "sns.boxplot(x='Category Name', y='Sale Quantity', data=merged_data)\n",
    "sns.boxplot(x='Category Name', y='Total Sales', data=merged_data)\n",
    "\n",
    "# Step 5: Feature Engineering\n",
    "merged_data['Profit'] = merged_data['Total Sales'] - merged_data['Cost']\n",
    "\n",
    "# Step 6: Sales Forecasting\n",
    "X = merged_data[['Category Name', 'Department Name', 'Store Name', 'Sale Quantity']]\n",
    "y = merged_data['Total Sales']\n",
    "\n",
    "X_train, X_test, y_train, y_test = train_test_split(X, y, test_size=0.2, random_state=0)\n",
    "\n",
    "regressor = LinearRegression()\n",
    "regressor.fit(X_train, y_train)\n",
    "\n",
    "y_pred = regressor.predict(X_test)\n",
    "\n",
    "# Step 7: Evaluate the Model\n",
    "print('Mean Absolute Error:', metrics.mean_absolute_error(y_test, y_pred))\n",
    "print('Mean Squared Error:', metrics.mean_squared_error(y_test, y_pred))\n",
    "print('Root Mean Squared Error:', np.sqrt(metrics.mean_squared_error(y_test, y_pred)))\n",
    "\n",
    "# Step 8: Report and Presentation\n",
    "# Here you can add the code to generate reports and presentations.\n",
    "# You can use libraries like Matplotlib, Seaborn, Plotly for generating graphs and charts.\n",
    "# Also, you can use libraries like ReportLab, FPDF for generating PDF reports.\n"
   ]
  }
 ],
 "metadata": {
  "language_info": {
   "name": "python"
  }
 },
 "nbformat": 4,
 "nbformat_minor": 2
}
